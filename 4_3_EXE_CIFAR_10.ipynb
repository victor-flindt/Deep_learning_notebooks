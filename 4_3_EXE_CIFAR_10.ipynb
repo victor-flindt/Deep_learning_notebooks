{
  "nbformat": 4,
  "nbformat_minor": 0,
  "metadata": {
    "accelerator": "GPU",
    "colab": {
      "name": "4.3-EXE-CIFAR-10.ipynb",
      "provenance": [],
      "collapsed_sections": []
    },
    "kernelspec": {
      "display_name": "Python 3",
      "language": "python",
      "name": "python3"
    },
    "language_info": {
      "codemirror_mode": {
        "name": "ipython",
        "version": 3
      },
      "file_extension": ".py",
      "mimetype": "text/x-python",
      "name": "python",
      "nbconvert_exporter": "python",
      "pygments_lexer": "ipython3",
      "version": "3.8.3"
    },
    "widgets": {
      "application/vnd.jupyter.widget-state+json": {
        "5298fec1722946e5b4190cfd9228724d": {
          "model_module": "@jupyter-widgets/controls",
          "model_name": "HBoxModel",
          "model_module_version": "1.5.0",
          "state": {
            "_view_name": "HBoxView",
            "_dom_classes": [],
            "_model_name": "HBoxModel",
            "_view_module": "@jupyter-widgets/controls",
            "_model_module_version": "1.5.0",
            "_view_count": null,
            "_view_module_version": "1.5.0",
            "box_style": "",
            "layout": "IPY_MODEL_b880bd68a83f4415aa99814a10686ff3",
            "_model_module": "@jupyter-widgets/controls",
            "children": [
              "IPY_MODEL_e3e4c83672a3410f8b7ab1421e332c7b",
              "IPY_MODEL_61f3255a7060435fa7ce6a22eaad2e7f",
              "IPY_MODEL_4c686722eeab4b259138410d096992b6"
            ]
          }
        },
        "b880bd68a83f4415aa99814a10686ff3": {
          "model_module": "@jupyter-widgets/base",
          "model_name": "LayoutModel",
          "model_module_version": "1.2.0",
          "state": {
            "_view_name": "LayoutView",
            "grid_template_rows": null,
            "right": null,
            "justify_content": null,
            "_view_module": "@jupyter-widgets/base",
            "overflow": null,
            "_model_module_version": "1.2.0",
            "_view_count": null,
            "flex_flow": null,
            "width": null,
            "min_width": null,
            "border": null,
            "align_items": null,
            "bottom": null,
            "_model_module": "@jupyter-widgets/base",
            "top": null,
            "grid_column": null,
            "overflow_y": null,
            "overflow_x": null,
            "grid_auto_flow": null,
            "grid_area": null,
            "grid_template_columns": null,
            "flex": null,
            "_model_name": "LayoutModel",
            "justify_items": null,
            "grid_row": null,
            "max_height": null,
            "align_content": null,
            "visibility": null,
            "align_self": null,
            "height": null,
            "min_height": null,
            "padding": null,
            "grid_auto_rows": null,
            "grid_gap": null,
            "max_width": null,
            "order": null,
            "_view_module_version": "1.2.0",
            "grid_template_areas": null,
            "object_position": null,
            "object_fit": null,
            "grid_auto_columns": null,
            "margin": null,
            "display": null,
            "left": null
          }
        },
        "e3e4c83672a3410f8b7ab1421e332c7b": {
          "model_module": "@jupyter-widgets/controls",
          "model_name": "HTMLModel",
          "model_module_version": "1.5.0",
          "state": {
            "_view_name": "HTMLView",
            "style": "IPY_MODEL_bee208eae6074321ad62ed07422cae62",
            "_dom_classes": [],
            "description": "",
            "_model_name": "HTMLModel",
            "placeholder": "​",
            "_view_module": "@jupyter-widgets/controls",
            "_model_module_version": "1.5.0",
            "value": "",
            "_view_count": null,
            "_view_module_version": "1.5.0",
            "description_tooltip": null,
            "_model_module": "@jupyter-widgets/controls",
            "layout": "IPY_MODEL_848a9cb4818a4fec9e6376635c3acb9d"
          }
        },
        "61f3255a7060435fa7ce6a22eaad2e7f": {
          "model_module": "@jupyter-widgets/controls",
          "model_name": "FloatProgressModel",
          "model_module_version": "1.5.0",
          "state": {
            "_view_name": "ProgressView",
            "style": "IPY_MODEL_ab3882433f6f4b92bf28824cfc39d0ae",
            "_dom_classes": [],
            "description": "",
            "_model_name": "FloatProgressModel",
            "bar_style": "success",
            "max": 170498071,
            "_view_module": "@jupyter-widgets/controls",
            "_model_module_version": "1.5.0",
            "value": 170498071,
            "_view_count": null,
            "_view_module_version": "1.5.0",
            "orientation": "horizontal",
            "min": 0,
            "description_tooltip": null,
            "_model_module": "@jupyter-widgets/controls",
            "layout": "IPY_MODEL_2f9bdb7e628d49c586047bd1218d3469"
          }
        },
        "4c686722eeab4b259138410d096992b6": {
          "model_module": "@jupyter-widgets/controls",
          "model_name": "HTMLModel",
          "model_module_version": "1.5.0",
          "state": {
            "_view_name": "HTMLView",
            "style": "IPY_MODEL_807372afcd5f4200b27a20ef2fc6b26d",
            "_dom_classes": [],
            "description": "",
            "_model_name": "HTMLModel",
            "placeholder": "​",
            "_view_module": "@jupyter-widgets/controls",
            "_model_module_version": "1.5.0",
            "value": " 170499072/? [00:03&lt;00:00, 74007253.36it/s]",
            "_view_count": null,
            "_view_module_version": "1.5.0",
            "description_tooltip": null,
            "_model_module": "@jupyter-widgets/controls",
            "layout": "IPY_MODEL_6f35a91cf0da43fb9eb59132f80f8d68"
          }
        },
        "bee208eae6074321ad62ed07422cae62": {
          "model_module": "@jupyter-widgets/controls",
          "model_name": "DescriptionStyleModel",
          "model_module_version": "1.5.0",
          "state": {
            "_view_name": "StyleView",
            "_model_name": "DescriptionStyleModel",
            "description_width": "",
            "_view_module": "@jupyter-widgets/base",
            "_model_module_version": "1.5.0",
            "_view_count": null,
            "_view_module_version": "1.2.0",
            "_model_module": "@jupyter-widgets/controls"
          }
        },
        "848a9cb4818a4fec9e6376635c3acb9d": {
          "model_module": "@jupyter-widgets/base",
          "model_name": "LayoutModel",
          "model_module_version": "1.2.0",
          "state": {
            "_view_name": "LayoutView",
            "grid_template_rows": null,
            "right": null,
            "justify_content": null,
            "_view_module": "@jupyter-widgets/base",
            "overflow": null,
            "_model_module_version": "1.2.0",
            "_view_count": null,
            "flex_flow": null,
            "width": null,
            "min_width": null,
            "border": null,
            "align_items": null,
            "bottom": null,
            "_model_module": "@jupyter-widgets/base",
            "top": null,
            "grid_column": null,
            "overflow_y": null,
            "overflow_x": null,
            "grid_auto_flow": null,
            "grid_area": null,
            "grid_template_columns": null,
            "flex": null,
            "_model_name": "LayoutModel",
            "justify_items": null,
            "grid_row": null,
            "max_height": null,
            "align_content": null,
            "visibility": null,
            "align_self": null,
            "height": null,
            "min_height": null,
            "padding": null,
            "grid_auto_rows": null,
            "grid_gap": null,
            "max_width": null,
            "order": null,
            "_view_module_version": "1.2.0",
            "grid_template_areas": null,
            "object_position": null,
            "object_fit": null,
            "grid_auto_columns": null,
            "margin": null,
            "display": null,
            "left": null
          }
        },
        "ab3882433f6f4b92bf28824cfc39d0ae": {
          "model_module": "@jupyter-widgets/controls",
          "model_name": "ProgressStyleModel",
          "model_module_version": "1.5.0",
          "state": {
            "_view_name": "StyleView",
            "_model_name": "ProgressStyleModel",
            "description_width": "",
            "_view_module": "@jupyter-widgets/base",
            "_model_module_version": "1.5.0",
            "_view_count": null,
            "_view_module_version": "1.2.0",
            "bar_color": null,
            "_model_module": "@jupyter-widgets/controls"
          }
        },
        "2f9bdb7e628d49c586047bd1218d3469": {
          "model_module": "@jupyter-widgets/base",
          "model_name": "LayoutModel",
          "model_module_version": "1.2.0",
          "state": {
            "_view_name": "LayoutView",
            "grid_template_rows": null,
            "right": null,
            "justify_content": null,
            "_view_module": "@jupyter-widgets/base",
            "overflow": null,
            "_model_module_version": "1.2.0",
            "_view_count": null,
            "flex_flow": null,
            "width": null,
            "min_width": null,
            "border": null,
            "align_items": null,
            "bottom": null,
            "_model_module": "@jupyter-widgets/base",
            "top": null,
            "grid_column": null,
            "overflow_y": null,
            "overflow_x": null,
            "grid_auto_flow": null,
            "grid_area": null,
            "grid_template_columns": null,
            "flex": null,
            "_model_name": "LayoutModel",
            "justify_items": null,
            "grid_row": null,
            "max_height": null,
            "align_content": null,
            "visibility": null,
            "align_self": null,
            "height": null,
            "min_height": null,
            "padding": null,
            "grid_auto_rows": null,
            "grid_gap": null,
            "max_width": null,
            "order": null,
            "_view_module_version": "1.2.0",
            "grid_template_areas": null,
            "object_position": null,
            "object_fit": null,
            "grid_auto_columns": null,
            "margin": null,
            "display": null,
            "left": null
          }
        },
        "807372afcd5f4200b27a20ef2fc6b26d": {
          "model_module": "@jupyter-widgets/controls",
          "model_name": "DescriptionStyleModel",
          "model_module_version": "1.5.0",
          "state": {
            "_view_name": "StyleView",
            "_model_name": "DescriptionStyleModel",
            "description_width": "",
            "_view_module": "@jupyter-widgets/base",
            "_model_module_version": "1.5.0",
            "_view_count": null,
            "_view_module_version": "1.2.0",
            "_model_module": "@jupyter-widgets/controls"
          }
        },
        "6f35a91cf0da43fb9eb59132f80f8d68": {
          "model_module": "@jupyter-widgets/base",
          "model_name": "LayoutModel",
          "model_module_version": "1.2.0",
          "state": {
            "_view_name": "LayoutView",
            "grid_template_rows": null,
            "right": null,
            "justify_content": null,
            "_view_module": "@jupyter-widgets/base",
            "overflow": null,
            "_model_module_version": "1.2.0",
            "_view_count": null,
            "flex_flow": null,
            "width": null,
            "min_width": null,
            "border": null,
            "align_items": null,
            "bottom": null,
            "_model_module": "@jupyter-widgets/base",
            "top": null,
            "grid_column": null,
            "overflow_y": null,
            "overflow_x": null,
            "grid_auto_flow": null,
            "grid_area": null,
            "grid_template_columns": null,
            "flex": null,
            "_model_name": "LayoutModel",
            "justify_items": null,
            "grid_row": null,
            "max_height": null,
            "align_content": null,
            "visibility": null,
            "align_self": null,
            "height": null,
            "min_height": null,
            "padding": null,
            "grid_auto_rows": null,
            "grid_gap": null,
            "max_width": null,
            "order": null,
            "_view_module_version": "1.2.0",
            "grid_template_areas": null,
            "object_position": null,
            "object_fit": null,
            "grid_auto_columns": null,
            "margin": null,
            "display": null,
            "left": null
          }
        }
      }
    }
  },
  "cells": [
    {
      "cell_type": "markdown",
      "metadata": {
        "id": "bu1Wy6Xb81Sn"
      },
      "source": [
        "# Credits\n",
        "\n",
        "This is heavily influenced from https://github.com/pytorch/tutorials"
      ]
    },
    {
      "cell_type": "markdown",
      "metadata": {
        "id": "LAKPr8fK24h-"
      },
      "source": [
        "Completed by: \\\n",
        "Mikkel Pedersen (s174831)\\\n",
        "Victor Flindt (s174822)"
      ]
    },
    {
      "cell_type": "markdown",
      "metadata": {
        "id": "oZW0gaQO81Sq"
      },
      "source": [
        "# CIFAR-10\n",
        "\n",
        "In thins notebook you need to put what you have learned into practice, and create your own convolutional classifier for the CIFAR-10 dataset.\n",
        "\n",
        "It has the classes: ‘airplane’, ‘automobile’, ‘bird’, ‘cat’, ‘deer’, ‘dog’, ‘frog’, ‘horse’, ‘ship’, ‘truck’.\n",
        "The images in CIFAR-10 are of size 3x32x32, i.e. 3-channel color images of 32x32 pixels in size.\n",
        "\n",
        "![cifar10](https://github.com/DeepLearningDTU/02456-deep-learning-with-PyTorch/blob/master/static_files/cifar10.png?raw=1)\n",
        "\n",
        "\n",
        "In order to train a classifier the following steps needs to be performed:\n",
        "\n",
        "1. Load and normalizing the CIFAR10 training and test datasets using\n",
        "   ``torchvision``\n",
        "2. Define a Convolutional Neural Network\n",
        "3. Define a loss function\n",
        "4. Train the network on the training data\n",
        "5. Test the network on the test data\n",
        "\n",
        "We will help you along the way.\n",
        "We indicate the places you need to modify the code with `# Your code here!`.\n",
        "It is however a good idea to read the entire assignment before you begin coding!"
      ]
    },
    {
      "cell_type": "markdown",
      "metadata": {
        "id": "htyg7xxN81St"
      },
      "source": [
        "## 1. Loading and normalizing CIFAR10\n",
        "\n",
        "Using ``torchvision``, it’s extremely easy to load CIFAR10."
      ]
    },
    {
      "cell_type": "code",
      "metadata": {
        "id": "v3u2GIWr81Su"
      },
      "source": [
        "%matplotlib inline\n",
        "import matplotlib.pyplot as plt\n",
        "import numpy as np\n",
        "\n",
        "import torch\n",
        "import torchvision\n",
        "import torchvision.transforms as transforms"
      ],
      "execution_count": null,
      "outputs": []
    },
    {
      "cell_type": "markdown",
      "metadata": {
        "id": "xx5SHRkm81S0"
      },
      "source": [
        "The output of torchvision datasets are PILImage images of range [0, 1].\n",
        "We transform them to Tensors of normalized range [-1, 1]\n",
        "\n",
        "**NB** Modify the code below to only use a small part of the dataset if your computer is very slow."
      ]
    },
    {
      "cell_type": "code",
      "metadata": {
        "colab": {
          "base_uri": "https://localhost:8080/",
          "height": 117,
          "referenced_widgets": [
            "5298fec1722946e5b4190cfd9228724d",
            "b880bd68a83f4415aa99814a10686ff3",
            "e3e4c83672a3410f8b7ab1421e332c7b",
            "61f3255a7060435fa7ce6a22eaad2e7f",
            "4c686722eeab4b259138410d096992b6",
            "bee208eae6074321ad62ed07422cae62",
            "848a9cb4818a4fec9e6376635c3acb9d",
            "ab3882433f6f4b92bf28824cfc39d0ae",
            "2f9bdb7e628d49c586047bd1218d3469",
            "807372afcd5f4200b27a20ef2fc6b26d",
            "6f35a91cf0da43fb9eb59132f80f8d68"
          ]
        },
        "id": "QZeTujLC81S3",
        "outputId": "c9b8a710-908a-4c15-8d3e-0549f62dc26d"
      },
      "source": [
        "transform = transforms.Compose(\n",
        "    [transforms.ToTensor(),\n",
        "     transforms.Normalize((0.5, 0.5, 0.5),(0.5, 0.5, 0.5))\n",
        "    ]\n",
        ")\n",
        "\n",
        "# Load dataset\n",
        "trainset = torchvision.datasets.CIFAR10(root='./data', train=True,\n",
        "                                        download=True, transform=transform)\n",
        "testset = torchvision.datasets.CIFAR10(root='./data', train=False,\n",
        "                                       download=True, transform=transform)\n",
        "\n",
        "classes = ('plane', 'car', 'bird', 'cat', 'deer',\n",
        "           'dog', 'frog', 'horse', 'ship', 'truck')\n",
        "\n",
        "used_categories = range(len(classes))\n",
        "\n",
        "## USE CODE BELOW IF YOUR COMPUTER IS TOO SLOW\n",
        "reduce_dataset = False\n",
        "if reduce_dataset:\n",
        "    used_categories = (3, 5) # cats and dogs\n",
        "\n",
        "    classes = [classes[i] for i in used_categories]\n",
        "    new_train_data = []\n",
        "    new_train_labels = []\n",
        "\n",
        "    new_test_data = []\n",
        "    new_test_labels = []\n",
        "    for i, t in enumerate(used_categories):\n",
        "        new_train_data.append(trainset.data[np.where(np.array(trainset.targets) == t)])\n",
        "        new_train_labels += [i for _ in range(new_train_data[-1].shape[0])]\n",
        "\n",
        "        new_test_data.append(testset.data[np.where(np.array(testset.targets) == t)])\n",
        "        new_test_labels += [i for _ in range(new_test_data[-1].shape[0])]\n",
        "\n",
        "    new_train_data = np.concatenate(new_train_data, 0)\n",
        "    trainset.data = new_train_data\n",
        "    trainset.targets = new_train_labels\n",
        "\n",
        "    new_test_data = np.concatenate(new_test_data, 0)\n",
        "    testset.data = new_test_data\n",
        "    testset.targets = new_test_labels\n",
        "\n",
        "    \n",
        "trainloader = torch.utils.data.DataLoader(trainset, batch_size=4,\n",
        "                                          shuffle=True, num_workers=2)\n",
        "testloader = torch.utils.data.DataLoader(testset, batch_size=4,\n",
        "                                         shuffle=True, num_workers=2)\n",
        "train_data_iter = iter(trainloader)\n",
        "test_data_iter = iter(testloader)\n",
        "print('used classes:', classes)"
      ],
      "execution_count": null,
      "outputs": [
        {
          "output_type": "stream",
          "name": "stdout",
          "text": [
            "Downloading https://www.cs.toronto.edu/~kriz/cifar-10-python.tar.gz to ./data/cifar-10-python.tar.gz\n"
          ]
        },
        {
          "output_type": "display_data",
          "data": {
            "application/vnd.jupyter.widget-view+json": {
              "model_id": "5298fec1722946e5b4190cfd9228724d",
              "version_minor": 0,
              "version_major": 2
            },
            "text/plain": [
              "  0%|          | 0/170498071 [00:00<?, ?it/s]"
            ]
          },
          "metadata": {}
        },
        {
          "output_type": "stream",
          "name": "stdout",
          "text": [
            "Extracting ./data/cifar-10-python.tar.gz to ./data\n",
            "Files already downloaded and verified\n",
            "used classes: ('plane', 'car', 'bird', 'cat', 'deer', 'dog', 'frog', 'horse', 'ship', 'truck')\n"
          ]
        }
      ]
    },
    {
      "cell_type": "code",
      "metadata": {
        "colab": {
          "base_uri": "https://localhost:8080/"
        },
        "id": "JDHkc52L81S9",
        "outputId": "040b7d09-8dbb-452f-b925-e33be5f2ccde"
      },
      "source": [
        "print(\"# Training data\")\n",
        "print(\"Number of points:\", len(trainset))\n",
        "x, y = next(iter(trainloader))\n",
        "print(\"Batch dimension [B x C x H x W]:\", x.shape)\n",
        "print(\"Number of distinct labels:\", len(set(trainset.targets)))\n",
        "\n",
        "\n",
        "print(\"\\n# Test data\")\n",
        "print(\"Number of points:\", len(testset))\n",
        "x, y = next(iter(testloader))\n",
        "print(\"Batch dimension [B x C x H x W]:\", x.shape)\n",
        "print(\"Number of distinct labels:\", len(set(testset.targets)))"
      ],
      "execution_count": null,
      "outputs": [
        {
          "output_type": "stream",
          "name": "stdout",
          "text": [
            "# Training data\n",
            "Number of points: 50000\n",
            "Batch dimension [B x C x H x W]: torch.Size([4, 3, 32, 32])\n",
            "Number of distinct labels: 10\n",
            "\n",
            "# Test data\n",
            "Number of points: 10000\n",
            "Batch dimension [B x C x H x W]: torch.Size([4, 3, 32, 32])\n",
            "Number of distinct labels: 10\n"
          ]
        }
      ]
    },
    {
      "cell_type": "markdown",
      "metadata": {
        "id": "xSA1h94681TB"
      },
      "source": [
        "Let us show some of the training images, for fun.\n",
        "\n"
      ]
    },
    {
      "cell_type": "code",
      "metadata": {
        "colab": {
          "base_uri": "https://localhost:8080/",
          "height": 155
        },
        "id": "njJy0klP81TD",
        "outputId": "abb88f33-d89d-4356-fb18-c8d172b744d6"
      },
      "source": [
        "# Run this cell multiple time to see more samples\n",
        "\n",
        "def imshow(img):\n",
        "    \"\"\" show an image \"\"\"\n",
        "    img = img / 2 + 0.5 # unnormalize\n",
        "    npimg = img.numpy()\n",
        "    plt.imshow(np.transpose(npimg, (1, 2, 0)))\n",
        "\n",
        "\n",
        "# get some random training images\n",
        "images, labels = train_data_iter.next()\n",
        "\n",
        "# show images\n",
        "imshow(torchvision.utils.make_grid(images))\n",
        "\n",
        "# print labels\n",
        "print(' '.join('%5s' % classes[labels[j]] for j in range(4)))"
      ],
      "execution_count": null,
      "outputs": [
        {
          "output_type": "stream",
          "name": "stdout",
          "text": [
            " bird  bird plane   car\n"
          ]
        },
        {
          "output_type": "display_data",
          "data": {
            "image/png": "[encoded data removed]",
            "text/plain": [
              "<Figure size 432x288 with 1 Axes>"
            ]
          },
          "metadata": {
            "needs_background": "light"
          }
        }
      ]
    },
    {
      "cell_type": "markdown",
      "metadata": {
        "id": "Wt3BVFMF81TI"
      },
      "source": [
        "## 2. Define a Convolutional Neural Network\n",
        "\n",
        "**Assignment 1:** Define a convolutional neural network. \n",
        "You may use the code from previous notebooks.\n",
        "We suggest that you start with a small network, and make sure that everything is working.\n",
        "Once you can train successfully come back and improve the architecture"
      ]
    },
    {
      "cell_type": "code",
      "metadata": {
        "colab": {
          "base_uri": "https://localhost:8080/"
        },
        "id": "_EsKbw3o81TK",
        "outputId": "5cce4547-ea0a-48af-81f2-f7efd4f9f4d6"
      },
      "source": [
        "from torch.autograd import Variable\n",
        "import torch.nn as nn\n",
        "import torch.nn.functional as F\n",
        "channels = 3 # since it is a 3X32X32 set\n",
        "num_filters_conv1 = 6\n",
        "kernel_size_conv1 = 5\n",
        "stride_conv1 = 1\n",
        "\n",
        "class Net(nn.Module):\n",
        "    def __init__(self, num_classes):\n",
        "        super(Net, self).__init__()\n",
        "        self.num_classes = num_classes\n",
        "        # definition of 2dconv network shit\n",
        "        self.conv_1 = nn.Conv2d(in_channels=3,\n",
        "                    out_channels=32,\n",
        "                    kernel_size=5,\n",
        "                    stride=1)\n",
        "        self.conv_2 = nn.Conv2d(in_channels=32,\n",
        "                    out_channels=64,\n",
        "                    kernel_size=5,\n",
        "                    stride=1)\n",
        "        self.l_out = nn.Linear(in_features=36864, out_features=len(classes), bias=False)\n",
        "        \n",
        "        # Your code here!\n",
        "\n",
        "    def forward(self, x):\n",
        "        # Your code here!\n",
        "        x = F.relu(self.conv_1(x))\n",
        "        print(x.shape)\n",
        "        x = F.relu(self.conv_2(x))\n",
        "        print(x.shape)\n",
        "        # activation function and input of the 2d vonc network\n",
        "        x = torch.flatten(x, 1)\n",
        "        return F.relu(self.l_out(x))\n",
        "    \n",
        "\n",
        "net = Net(2)\n",
        "print(net)"
      ],
      "execution_count": null,
      "outputs": [
        {
          "output_type": "stream",
          "name": "stdout",
          "text": [
            "Net(\n",
            "  (conv_1): Conv2d(3, 32, kernel_size=(5, 5), stride=(1, 1))\n",
            "  (conv_2): Conv2d(32, 64, kernel_size=(5, 5), stride=(1, 1))\n",
            "  (l_out): Linear(in_features=36864, out_features=10, bias=False)\n",
            ")\n"
          ]
        }
      ]
    },
    {
      "cell_type": "code",
      "metadata": {
        "colab": {
          "base_uri": "https://localhost:8080/"
        },
        "id": "TohcbqaOzI-e",
        "outputId": "c9fa6e15-8c8d-458b-8734-2c4294c7e08d"
      },
      "source": [
        "x = torch.randn([4,3,32,32])\n",
        "net(x)"
      ],
      "execution_count": null,
      "outputs": [
        {
          "output_type": "stream",
          "name": "stdout",
          "text": [
            "torch.Size([4, 32, 28, 28])\n",
            "torch.Size([4, 64, 24, 24])\n"
          ]
        },
        {
          "output_type": "execute_result",
          "data": {
            "text/plain": [
              "tensor([[0.1042, 0.0000, 0.0000, 0.0000, 0.1164, 0.0000, 0.0000, 0.0000, 0.0000,\n",
              "         0.0000],\n",
              "        [0.0191, 0.0000, 0.0479, 0.0035, 0.1551, 0.0311, 0.0375, 0.0000, 0.0686,\n",
              "         0.0292],\n",
              "        [0.0364, 0.1009, 0.0028, 0.0000, 0.0777, 0.0000, 0.1243, 0.0000, 0.0000,\n",
              "         0.0000],\n",
              "        [0.0000, 0.1705, 0.0011, 0.0000, 0.0430, 0.0000, 0.1216, 0.0596, 0.0000,\n",
              "         0.0099]], grad_fn=<ReluBackward0>)"
            ]
          },
          "metadata": {},
          "execution_count": 14
        }
      ]
    },
    {
      "cell_type": "markdown",
      "metadata": {
        "id": "7-IUg3sq81TQ"
      },
      "source": [
        "## 3. Define a Loss function and optimizer\n",
        "\n",
        "**Assignment 2:** Implement the criterion and optimizer. \n",
        "We suggest Classification Cross-Entropy loss and SGD with momentum.\n",
        "You might need to experiment a bit with the learning rate."
      ]
    },
    {
      "cell_type": "code",
      "metadata": {
        "id": "48AX85QP81TR"
      },
      "source": [
        "import torch.optim as optim\n",
        "\n",
        "# criterion = None  # Your code here!\n",
        "# optimizer = None  # Your code here!\n",
        "\n",
        "criterion = nn.CrossEntropyLoss()\n",
        "optimizer = optim.SGD(net.parameters(), lr=0.001, momentum=0.5)"
      ],
      "execution_count": null,
      "outputs": []
    },
    {
      "cell_type": "markdown",
      "metadata": {
        "id": "-WneIN7C81TV"
      },
      "source": [
        "## 4. Train the network\n",
        "\n",
        "**Assignment 3:** Finish the training loop below. \n",
        "Start by using a small number of epochs (e.g. 3).\n",
        "Even with a low number of epochs you should be able to see results that are better than chance.\n",
        "When everything is working increase the number of epochs to find out how good your network really is."
      ]
    },
    {
      "cell_type": "code",
      "metadata": {
        "colab": {
          "base_uri": "https://localhost:8080/"
        },
        "id": "NkUanRRb81TW",
        "outputId": "c124a8ac-eb44-4478-f31b-74d75a854d44"
      },
      "source": [
        "num_epoch = 2  # Your code here!\n",
        "\n",
        "\n",
        "\n",
        "for epoch in range(num_epoch):  # loop over the dataset multiple times\n",
        "    running_loss = 0.0\n",
        "    for i, data in enumerate(trainloader, 0):\n",
        "\n",
        "        # get the inputs\n",
        "        inputs, labels = data\n",
        "\n",
        "        # wrap them in Variable\n",
        "        #inputs, labels = Variable(inputs), Variable(labels)\n",
        "\n",
        "        #print(inputs, labels)\n",
        "        optimizer.zero_grad()\n",
        "\n",
        "        output = net(inputs)\n",
        "        \n",
        "        loss = criterion(output, labels)\n",
        "\n",
        "        loss.backward()\n",
        "        optimizer.step()\n",
        "\n",
        "        # forward + backward + optimize\n",
        "        # Your code here!\n",
        "\n",
        "        \n",
        "\n",
        "        # print statistics\n",
        "        running_loss += loss.item()\n",
        "        if i % 1000 == 999:    # print every 1000 mini-batches\n",
        "            print('[%d, %5d] loss: %.3f' %\n",
        "                  (epoch + 1, i + 1, running_loss / 1000))\n",
        "            running_loss = 0.0\n",
        "\n",
        "print('Finished Training')"
      ],
      "execution_count": null,
      "outputs": [
        {
          "output_type": "stream",
          "name": "stdout",
          "text": [
            "[1,  1000] loss: 2.157\n",
            "[1,  2000] loss: 1.933\n",
            "[1,  3000] loss: 1.827\n",
            "[1,  4000] loss: 1.788\n",
            "[1,  5000] loss: 1.733\n",
            "[1,  6000] loss: 1.705\n",
            "[1,  7000] loss: 1.601\n",
            "[1,  8000] loss: 1.613\n",
            "[1,  9000] loss: 1.545\n",
            "[1, 10000] loss: 1.502\n",
            "[1, 11000] loss: 1.419\n",
            "[1, 12000] loss: 1.401\n",
            "[2,  1000] loss: 1.312\n",
            "[2,  2000] loss: 1.282\n",
            "[2,  3000] loss: 1.288\n",
            "[2,  4000] loss: 1.250\n",
            "[2,  5000] loss: 1.248\n",
            "[2,  6000] loss: 1.264\n",
            "[2,  7000] loss: 1.230\n",
            "[2,  8000] loss: 1.178\n",
            "[2,  9000] loss: 1.192\n",
            "[2, 10000] loss: 1.149\n",
            "[2, 11000] loss: 1.152\n",
            "[2, 12000] loss: 1.115\n",
            "Finished Training\n"
          ]
        }
      ]
    },
    {
      "cell_type": "code",
      "metadata": {
        "colab": {
          "base_uri": "https://localhost:8080/",
          "height": 17
        },
        "id": "1CAGhxM3rriH",
        "outputId": "5d52d359-944a-4dbd-c6c4-d16edbf0c35e"
      },
      "source": [
        "# from google.colab import files\n",
        "\n",
        "# torch.save(net.state_dict(), 'model.pth')\n",
        "# files.download('model.pth')"
      ],
      "execution_count": null,
      "outputs": [
        {
          "output_type": "display_data",
          "data": {
            "application/javascript": [
              "\n",
              "    async function download(id, filename, size) {\n",
              "      if (!google.colab.kernel.accessAllowed) {\n",
              "        return;\n",
              "      }\n",
              "      const div = document.createElement('div');\n",
              "      const label = document.createElement('label');\n",
              "      label.textContent = `Downloading \"${filename}\": `;\n",
              "      div.appendChild(label);\n",
              "      const progress = document.createElement('progress');\n",
              "      progress.max = size;\n",
              "      div.appendChild(progress);\n",
              "      document.body.appendChild(div);\n",
              "\n",
              "      const buffers = [];\n",
              "      let downloaded = 0;\n",
              "\n",
              "      const channel = await google.colab.kernel.comms.open(id);\n",
              "      // Send a message to notify the kernel that we're ready.\n",
              "      channel.send({})\n",
              "\n",
              "      for await (const message of channel.messages) {\n",
              "        // Send a message to notify the kernel that we're ready.\n",
              "        channel.send({})\n",
              "        if (message.buffers) {\n",
              "          for (const buffer of message.buffers) {\n",
              "            buffers.push(buffer);\n",
              "            downloaded += buffer.byteLength;\n",
              "            progress.value = downloaded;\n",
              "          }\n",
              "        }\n",
              "      }\n",
              "      const blob = new Blob(buffers, {type: 'application/binary'});\n",
              "      const a = document.createElement('a');\n",
              "      a.href = window.URL.createObjectURL(blob);\n",
              "      a.download = filename;\n",
              "      div.appendChild(a);\n",
              "      a.click();\n",
              "      div.remove();\n",
              "    }\n",
              "  "
            ],
            "text/plain": [
              "<IPython.core.display.Javascript object>"
            ]
          },
          "metadata": {}
        },
        {
          "output_type": "display_data",
          "data": {
            "application/javascript": [
              "download(\"download_8782daed-4512-4d26-9665-2582ad63bfe6\", \"model.pth\", 1691035)"
            ],
            "text/plain": [
              "<IPython.core.display.Javascript object>"
            ]
          },
          "metadata": {}
        }
      ]
    },
    {
      "cell_type": "markdown",
      "metadata": {
        "id": "0qAsbC8I81Ta"
      },
      "source": [
        "## 5. Test the network on the test data\n",
        "\n",
        "Now we need to check if the network has learnt anything at all.\n",
        "We will check this by predicting the class label that the neural network outputs, and checking it against the ground truth.\n",
        "If the prediction is correct, we add the sample to the list of correct predictions.\n",
        "\n",
        "Okay, first step. Let us display an image from the test set to get familiar."
      ]
    },
    {
      "cell_type": "code",
      "metadata": {
        "colab": {
          "base_uri": "https://localhost:8080/",
          "height": 172
        },
        "id": "7LT0RoAC81Tc",
        "outputId": "70d94ced-64ac-4bc0-9bcb-b1d1044e672a"
      },
      "source": [
        "images, labels = test_data_iter.next()\n",
        "\n",
        "# print images\n",
        "imshow(torchvision.utils.make_grid(images))\n",
        "plt.show()\n",
        "\n",
        "print('GroundTruth:  ', ' '.join('%5s' % classes[labels[j]] for j in range(4)))\n",
        "\n",
        "outputs = net(images)\n",
        "_, predicted = torch.max(outputs.data, 1)\n",
        "print('Predicted:    ', ' '.join('%5s' % classes[predicted[j]] for j in range(4)))"
      ],
      "execution_count": null,
      "outputs": [
        {
          "output_type": "display_data",
          "data": {
            "image/png": "[encoded data removed]",
            "text/plain": [
              "<Figure size 432x288 with 1 Axes>"
            ]
          },
          "metadata": {
            "needs_background": "light"
          }
        },
        {
          "output_type": "stream",
          "name": "stdout",
          "text": [
            "GroundTruth:   truck   car truck plane\n",
            "Predicted:     truck   car truck  ship\n"
          ]
        }
      ]
    },
    {
      "cell_type": "markdown",
      "metadata": {
        "id": "ISA6LJJO81Tg"
      },
      "source": [
        "Let us look at how the network performs on the whole dataset."
      ]
    },
    {
      "cell_type": "code",
      "metadata": {
        "colab": {
          "base_uri": "https://localhost:8080/"
        },
        "id": "Smv6_BwF81Ti",
        "outputId": "9cf9e8cb-8c19-43d5-e883-1164d3977826"
      },
      "source": [
        "correct = 0\n",
        "total = 0\n",
        "\n",
        "for data in testloader:\n",
        "    images, labels = data\n",
        "    outputs = net(Variable(images))\n",
        "    _, predicted = torch.max(outputs.data, 1)\n",
        "    total += labels.size(0)\n",
        "    correct += (predicted == labels).sum()\n",
        "\n",
        "print('Accuracy of the network on the {} test images: {:4.2f} %'.format(\n",
        "    testset.data.shape[0], 100 * correct.true_divide(total)))"
      ],
      "execution_count": null,
      "outputs": [
        {
          "output_type": "stream",
          "name": "stdout",
          "text": [
            "Accuracy of the network on the 10000 test images: 60.19 %\n"
          ]
        }
      ]
    },
    {
      "cell_type": "markdown",
      "metadata": {
        "id": "QMZRvhaW81Tl"
      },
      "source": [
        "Hopefully the network is better than chance, which is $\\frac{1}{\\text{number of classes}}$ accuracy (randomly picking\n",
        "a class).\n",
        "\n",
        "\n",
        "We can also examine which class the network found the most difficult (makes more sense if you have many clases):"
      ]
    },
    {
      "cell_type": "code",
      "metadata": {
        "colab": {
          "base_uri": "https://localhost:8080/"
        },
        "id": "WqVTQgKq81Tl",
        "outputId": "3247629f-f8ad-436b-e2ff-de6202de3300"
      },
      "source": [
        "class_total = list(0. for i in range(len(classes)))\n",
        "class_correct = list(0. for i in range(len(classes)))\n",
        "\n",
        "for data in testloader:\n",
        "    images, labels = data\n",
        "    outputs = net(Variable(images))\n",
        "    _, predicted = torch.max(outputs.data, 1)\n",
        "    c = (predicted == labels).squeeze()\n",
        "    \n",
        "    for i in range(len(c)):\n",
        "        label = labels[i]\n",
        "        class_correct[label] += c[i].numpy()\n",
        "        class_total[label] += 1\n",
        "\n",
        "for i in range(len(classes)):\n",
        "    print('Accuracy of {:5s} : {:5.2f} %'.format(\n",
        "        classes[i], 100 * class_correct[i] / class_total[i]))"
      ],
      "execution_count": null,
      "outputs": [
        {
          "output_type": "stream",
          "name": "stdout",
          "text": [
            "Accuracy of plane : 65.70 %\n",
            "Accuracy of car   : 70.70 %\n",
            "Accuracy of bird  : 52.30 %\n",
            "Accuracy of cat   : 50.10 %\n",
            "Accuracy of deer  : 46.10 %\n",
            "Accuracy of dog   : 34.10 %\n",
            "Accuracy of frog  : 69.30 %\n",
            "Accuracy of horse : 77.40 %\n",
            "Accuracy of ship  : 67.50 %\n",
            "Accuracy of truck : 68.70 %\n"
          ]
        }
      ]
    },
    {
      "cell_type": "markdown",
      "metadata": {
        "id": "ocnQOBAl81Tn"
      },
      "source": [
        "**Assignment 4:** \n",
        "1. Go back and improve performance of the network. \n",
        " * If you are using all 10 classes you should get a test accuracy above 55%, but see how much further you can get it!\n",
        " * If you are using only 2 classes (e.g. cat and dog) you should get a test accuracy above 60%, but see how much further you can get it!\n",
        "\n",
        "**Answer:** \\\n",
        "We used 10 classes and got an overall accuracy of 60.19%\n",
        "\n",
        "2. Briefly describe what you did and any experiments you did along the way as well as what results you obtained.\n",
        "Did anything surprise you during the exercise?\n",
        "\n",
        "**Answer:** \\\n",
        "We started with a single convolution layer and got around 45% accuracy then we decided to test with maxpooling but the results were close to the same. We then introduced another convolution layer and a linear layer and got better accuracy around 53% then we decided to increase the filter numbers in the convelution networks to relatively larger numbers (going from 3,6 in conv_1 to 3,32 and in conv_2 from 6,10 to 32,64) this increased the accuracy to about 60.19% which is the final value we got.\n",
        "\n",
        "3. Write down key lessons/insights you got (if any) during this exercise.\n",
        "\n",
        "**Answer:** \\\n",
        "We got better at setting up a neural network from the bottom instead of using the functions provided without thinking too much about them."
      ]
    },
    {
      "cell_type": "markdown",
      "metadata": {
        "id": "8Nzefavy81To"
      },
      "source": [
        "# Training on GPU\n",
        "\n",
        "**Optional Assignment:**\n",
        "If you have a GPU we suggest that you try and rewrite the code above to run on the GPU\n",
        "___\n",
        "\n",
        "Just like how you transfer a Tensor on to the GPU, you transfer the neural net onto the GPU.\n",
        "This will recursively go over all modules and convert their parameters and buffers to CUDA tensors:\n",
        "\n",
        "```\n",
        "    net.cuda()\n",
        "```\n",
        "\n",
        "Remember that you will have to send the inputs and targets at every step to the GPU too:\n",
        "\n",
        "```\n",
        "    inputs, labels = Variable(inputs.cuda()), Variable(labels.cuda())\n",
        "```\n",
        "\n",
        "Why dont I notice MASSIVE speedup compared to CPU? \n",
        "Because your network is realllly small.\n",
        "\n",
        "**Exercise:** Try increasing the width of your network (argument 2 of\n",
        "the first ``nn.Conv2d``, and argument 1 of the second ``nn.Conv2d`` –\n",
        "they need to be the same number), see what kind of speedup you get.\n",
        "\n",
        "**Goals achieved**:\n",
        "\n",
        "- Understanding PyTorch's Tensor library and neural networks at a high level.\n",
        "- Train a small neural network to classify images\n",
        "\n",
        "## Setting up GPU in Colab\n",
        "\n",
        "In Colab, you will get 12 hours of execution time but the session will be disconnected if you are idle for more than 60 minutes. It means that for every 12 hours Disk, RAM, CPU Cache and the Data that is on our allocated virtual machine will get erased.\n",
        "\n",
        "To enable GPU hardware accelerator, just go to **Runtime -> Change runtime type -> Hardware accelerator -> GPU**"
      ]
    },
    {
      "cell_type": "markdown",
      "metadata": {
        "id": "bTDHYIL22Ijl"
      },
      "source": [
        ""
      ]
    },
    {
      "cell_type": "markdown",
      "metadata": {
        "id": "b8mEIylU81Tp"
      },
      "source": [
        "# Michael Nielsen book exercise of own choice\n",
        "\n",
        "**Assignment 5:** Pick an exercise of own choice from [Michael Nielsens book](http://neuralnetworksanddeeplearning.com/)\n",
        "\n",
        "**Answer:**\n",
        "\n",
        "\n",
        "\n"
      ]
    },
    {
      "cell_type": "markdown",
      "metadata": {
        "id": "YO1Yp7Tw2P1q"
      },
      "source": [
        "![image.png](data:image/png;base64,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)"
      ]
    },
    {
      "cell_type": "code",
      "metadata": {
        "id": "4pPByZBD2Waw"
      },
      "source": [
        ""
      ],
      "execution_count": null,
      "outputs": []
    },
    {
      "cell_type": "markdown",
      "metadata": {
        "id": "7MOM9jvD2W5M"
      },
      "source": [
        "**Answer**\n",
        "\n",
        "If we were to allow for arbitrary rotation of the original image, we could end up in a situtation where for example a nine might be turned 180 \\_degree "
      ]
    }
  ]
}